{
 "cells": [
  {
   "cell_type": "markdown",
   "id": "400b6a64",
   "metadata": {},
   "source": [
    "# Ein altes Rätsel von Sam Loyd (1841–1911):\n",
    "\n",
    "Neulich sah ich mir zusammen mit einem Freund die Attraktionen auf Coney Island an, und dabei lernten wir\n",
    "kennen, was uns jemand als das ehrlichste Spiel am ganzen Strand anpries. Da waren zehn kleine Figuren,\n",
    "die man mit einem Ball umwerfen musste. Der Mann sagte: «Für 1 Cent haben Sie einen Wurf, und Sie können werfen,\n",
    "so oft Sie wollen, und so dicht ’rangehen, wie Sie wollen. Zählen Sie die Zahlen auf den Figuren, die Sie umwerfen zusammen, und wenn Sie genau 50 haben, nicht mehr und nicht weniger, erhalten Sie eine prächtige Maggie-Cline- Zigarre mit einem Goldband drum herum.» Unser Geld war alle, noch bevor wir heraus hatten, wie man eigentlich gewinnen konnte. Ausserdem fiel uns auf, dass eine ganze Menge Leute genauso wenig Maggie-Cline-Zigarren rauchten wie wir. Wissen Sie, wie man genau 50 Punkte macht?\n",
    "Die Aufgabe besteht also darin, aus den gegebenen Zahlen jene herauszusuchen, die zusammen die Summe 50 ergeben:\n",
    "25, 27, 3, 12, 6, 15, 9, 30, 21, 19\n",
    "\n",
    "## Schreibe ein Programm, das diese Aufgabe für dich übernimmt!"
   ]
  }
 ],
 "metadata": {
  "kernelspec": {
   "display_name": "Python 3 (ipykernel)",
   "language": "python",
   "name": "python3"
  },
  "language_info": {
   "codemirror_mode": {
    "name": "ipython",
    "version": 3
   },
   "file_extension": ".py",
   "mimetype": "text/x-python",
   "name": "python",
   "nbconvert_exporter": "python",
   "pygments_lexer": "ipython3",
   "version": "3.9.7"
  }
 },
 "nbformat": 4,
 "nbformat_minor": 5
}
