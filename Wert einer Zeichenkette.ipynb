{
 "cells": [
  {
   "cell_type": "markdown",
   "id": "77fb5a27",
   "metadata": {},
   "source": [
    "# Wert einer Zeichenkette\n",
    "\n",
    "Schreibe ein Programm, das aus einer beliebigen Zeichenkette, den Gesamtwert aller darin enthaltenen Buchstaben aufsummiert. Der Wert eines Buchstabes ergibt sich dabei aus seiner Position im Alphabet, also A=1, B=2 ... Z=26.\n",
    "\n",
    "Groß- und Kleinschreibung spielt dabei keine Rolle.\n",
    " \n",
    "\n",
    "Welchen Wert hat die folgende Zeichenkette?\n",
    "\n",
    "\n",
    "'slkdfjb543--..wdwnsmwqpieo  fubwicbxoiwkewdioefncwbviwrc.,  fueodoqiewncvnwofuwb'\n",
    "\n",
    "## Tipps\n",
    "* Verwende Listen\n",
    "* erzeuge die Listen, statt sie zu schreiben"
   ]
  }
 ],
 "metadata": {
  "kernelspec": {
   "display_name": "Python 3 (ipykernel)",
   "language": "python",
   "name": "python3"
  },
  "language_info": {
   "codemirror_mode": {
    "name": "ipython",
    "version": 3
   },
   "file_extension": ".py",
   "mimetype": "text/x-python",
   "name": "python",
   "nbconvert_exporter": "python",
   "pygments_lexer": "ipython3",
   "version": "3.9.7"
  }
 },
 "nbformat": 4,
 "nbformat_minor": 5
}
