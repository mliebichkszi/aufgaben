{
 "cells": [
  {
   "cell_type": "markdown",
   "id": "40e81fb3",
   "metadata": {},
   "source": [
    "# Fibonacci-Zahlen\n",
    "\n",
    "Die Fibonacci-Zahlen sind das klassische Beispiel für\n",
    "eine rekursiv definierte Zahlenfolge:\n",
    "$$\n",
    "a_n=a_{n-2}+a_{n-1}, \\quad a_0=a_1=1 \\quad 1,1,2,3,5,8,13,21, \\ldots\n",
    "$$\n",
    "\n",
    "Schreibe ein Programm, das eine Zahl n vom Benutzer verlangt und die n-te Fibonacci Zahl ausgibt."
   ]
  },
  {
   "cell_type": "code",
   "execution_count": null,
   "id": "6cb12476",
   "metadata": {},
   "outputs": [],
   "source": []
  }
 ],
 "metadata": {
  "kernelspec": {
   "display_name": "Python 3 (ipykernel)",
   "language": "python",
   "name": "python3"
  },
  "language_info": {
   "codemirror_mode": {
    "name": "ipython",
    "version": 3
   },
   "file_extension": ".py",
   "mimetype": "text/x-python",
   "name": "python",
   "nbconvert_exporter": "python",
   "pygments_lexer": "ipython3",
   "version": "3.9.7"
  }
 },
 "nbformat": 4,
 "nbformat_minor": 5
}
